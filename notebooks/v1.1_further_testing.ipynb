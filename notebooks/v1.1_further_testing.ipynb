{
 "cells": [
  {
   "cell_type": "markdown",
   "id": "fa8055b6-edc1-4bb0-ad6a-51bb74a9cf3e",
   "metadata": {},
   "source": [
    "## HOTARU v1.1 Further Testing\n",
    "\n",
    "As it is recognised that the test dataset prepared in production2.ipynb may be too small to acertain reliable statistics, this notebook serves as an extension to the mentioned production notebook to gather results using a bigger test dataset."
   ]
  },
  {
   "cell_type": "code",
   "execution_count": 1,
   "id": "3fb7a9e2-cb87-4654-ac31-e385f881e757",
   "metadata": {},
   "outputs": [
    {
     "name": "stdout",
     "output_type": "stream",
     "text": [
      "WARNING:tensorflow:From C:\\Users\\dalet\\anaconda3\\Lib\\site-packages\\keras\\src\\losses.py:2976: The name tf.losses.sparse_softmax_cross_entropy is deprecated. Please use tf.compat.v1.losses.sparse_softmax_cross_entropy instead.\n",
      "\n"
     ]
    }
   ],
   "source": [
    "# Importing relevant libraries\n",
    "import tensorflow as tf\n",
    "import pandas as pd\n",
    "import numpy as np\n",
    "import cv2\n",
    "from matplotlib import pyplot as plt\n",
    "from PIL import Image\n",
    "import skimage\n",
    "from skimage import io, color, exposure\n",
    "from skimage.filters import threshold_otsu"
   ]
  },
  {
   "cell_type": "code",
   "execution_count": 2,
   "id": "59097bf1-9664-4e01-8ab0-930b27e3763f",
   "metadata": {},
   "outputs": [
    {
     "name": "stdout",
     "output_type": "stream",
     "text": [
      "WARNING:tensorflow:From C:\\Users\\dalet\\anaconda3\\Lib\\site-packages\\keras\\src\\backend.py:1398: The name tf.executing_eagerly_outside_functions is deprecated. Please use tf.compat.v1.executing_eagerly_outside_functions instead.\n",
      "\n",
      "WARNING:tensorflow:From C:\\Users\\dalet\\anaconda3\\Lib\\site-packages\\keras\\src\\layers\\pooling\\max_pooling2d.py:161: The name tf.nn.max_pool is deprecated. Please use tf.nn.max_pool2d instead.\n",
      "\n"
     ]
    }
   ],
   "source": [
    "# Activating HOTARU v1.1\n",
    "model = tf.keras.models.load_model('models/prod_2.h5')"
   ]
  },
  {
   "cell_type": "code",
   "execution_count": 3,
   "id": "d046825d-4b17-4871-906b-296d51771523",
   "metadata": {},
   "outputs": [
    {
     "name": "stdout",
     "output_type": "stream",
     "text": [
      "Found 1051 files belonging to 2 classes.\n"
     ]
    }
   ],
   "source": [
    "# Loading in test dataset\n",
    "test_dataset = tf.keras.preprocessing.image_dataset_from_directory('processed/test', image_size=(300,300), batch_size=32)"
   ]
  },
  {
   "cell_type": "code",
   "execution_count": 4,
   "id": "632559bf-a315-4da2-9256-e62659417e47",
   "metadata": {},
   "outputs": [
    {
     "name": "stdout",
     "output_type": "stream",
     "text": [
      "WARNING:tensorflow:From C:\\Users\\dalet\\anaconda3\\Lib\\site-packages\\keras\\src\\utils\\tf_utils.py:492: The name tf.ragged.RaggedTensorValue is deprecated. Please use tf.compat.v1.ragged.RaggedTensorValue instead.\n",
      "\n",
      "33/33 [==============================] - 3s 69ms/step - loss: 3.4702 - accuracy: 0.9267 - precision: 0.9346 - recall: 0.9897\n",
      "Loss: 3.4702465534210205, Accuracy: 0.9267364144325256, Precision: 0.9345703125, Recall: 0.9896587133407593, F1-score: 0.961325955044358\n"
     ]
    }
   ],
   "source": [
    "# Evaluating the model using the prediction dataset\n",
    "model_loss, model_accuracy, model_precision, model_recall = model.evaluate(test_dataset,verbose=1)\n",
    "\n",
    "# Calculating F1-score manually\n",
    "f1score = 2 * ((model_precision * model_recall) / (model_precision + model_recall))\n",
    "\n",
    "# Printing metrics\n",
    "print(f\"Loss: {model_loss}, Accuracy: {model_accuracy}, Precision: {model_precision}, Recall: {model_recall}, F1-score: {f1score}\")"
   ]
  },
  {
   "cell_type": "code",
   "execution_count": 5,
   "id": "52e724f8-d839-48ec-acaa-d09cc7d9c12d",
   "metadata": {},
   "outputs": [
    {
     "name": "stdout",
     "output_type": "stream",
     "text": [
      "33/33 [==============================] - 2s 66ms/step\n",
      " \n",
      "Confusion matrix:\n",
      "---------------------\n",
      "[[  3  81]\n",
      " [ 24 943]]\n",
      " \n",
      "Classification Report:\n",
      "---------------------\n",
      "              precision    recall  f1-score   support\n",
      "\n",
      "           0       0.11      0.04      0.05        84\n",
      "           1       0.92      0.98      0.95       967\n",
      "\n",
      "    accuracy                           0.90      1051\n",
      "   macro avg       0.52      0.51      0.50      1051\n",
      "weighted avg       0.86      0.90      0.88      1051\n",
      "\n"
     ]
    }
   ],
   "source": [
    "from sklearn.metrics import confusion_matrix, classification_report\n",
    "\n",
    "# Creating confusion matrix and classification report\n",
    "\n",
    "# Creating ground truth label list\n",
    "classes = test_dataset.class_names \n",
    "y_true = []\n",
    "\n",
    "for images, label in test_dataset:   \n",
    "    for e in label:\n",
    "        y_true.append(int(classes[e]))\n",
    "\n",
    "# Creating prediction list\n",
    "y_pred = model.predict(test_dataset)\n",
    "y_pred = np.round(y_pred).tolist()\n",
    "\n",
    "# Converting all lists gathered to arrays\n",
    "y_pred = np.array(y_pred)\n",
    "y_true = np.array(y_true)\n",
    "\n",
    "# Generating confusion matrix\n",
    "cm = confusion_matrix(y_true, y_pred)        \n",
    "\n",
    "print(\" \")\n",
    "print(\"Confusion matrix:\") \n",
    "print(\"---------------------\")\n",
    "print(cm)\n",
    "print(\" \")\n",
    "\n",
    "# Generating classification report\n",
    "clr = classification_report(y_true, y_pred, target_names=classes)\n",
    "\n",
    "print(\"Classification Report:\") \n",
    "print(\"---------------------\")\n",
    "print(clr)"
   ]
  }
 ],
 "metadata": {
  "kernelspec": {
   "display_name": "Python 3 (ipykernel)",
   "language": "python",
   "name": "python3"
  },
  "language_info": {
   "codemirror_mode": {
    "name": "ipython",
    "version": 3
   },
   "file_extension": ".py",
   "mimetype": "text/x-python",
   "name": "python",
   "nbconvert_exporter": "python",
   "pygments_lexer": "ipython3",
   "version": "3.11.7"
  }
 },
 "nbformat": 4,
 "nbformat_minor": 5
}
