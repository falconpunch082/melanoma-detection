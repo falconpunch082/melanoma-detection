{
 "cells": [
  {
   "cell_type": "markdown",
   "metadata": {},
   "source": [
    "Extracting 2018 skin cancer images"
   ]
  },
  {
   "cell_type": "code",
   "execution_count": 54,
   "metadata": {},
   "outputs": [],
   "source": [
    "import pandas as pd\n",
    "import shutil\n",
    "import os\n",
    "import zipfile\n",
    "import tempfile"
   ]
  },
  {
   "cell_type": "code",
   "execution_count": 55,
   "metadata": {},
   "outputs": [],
   "source": [
    "# Step 1: Read CSV file\n",
    "csv_path = r'C:\\Users\\sohai\\OneDrive\\Desktop\\Project_4\\challenge-2018-task-3-training_metadata_2024-02-02.csv'\n",
    "df = pd.read_csv(csv_path)"
   ]
  },
  {
   "cell_type": "code",
   "execution_count": 59,
   "metadata": {},
   "outputs": [],
   "source": [
    "# Step 2: Define target conditions\n",
    "condition_of_interest = ['basal cell carcinoma', 'melanoma', 'squamous cell carcinoma']"
   ]
  },
  {
   "cell_type": "code",
   "execution_count": 57,
   "metadata": {},
   "outputs": [],
   "source": [
    "# Step 3: Filter Data and Identify Corresponding Images\n",
    "zip_file_path = r'C:\\Users\\sohai\\OneDrive\\Desktop\\Project_4\\ISIC-2018_images.zip'\n",
    "output_folder = r'C:\\Users\\sohai\\OneDrive\\Desktop\\Project_4\\2018_cancer_images'\n",
    "os.makedirs(output_folder, exist_ok=True)"
   ]
  },
  {
   "cell_type": "code",
   "execution_count": 58,
   "metadata": {},
   "outputs": [],
   "source": [
    "# Extract images from the zip file\n",
    "with zipfile.ZipFile(zip_file_path, 'r') as zip_ref:\n",
    "    zip_ref.extractall(output_folder)"
   ]
  },
  {
   "cell_type": "code",
   "execution_count": 60,
   "metadata": {},
   "outputs": [],
   "source": [
    "for condition in condition_of_interest:\n",
    "    filtered_df = df[df['diagnosis'] == condition]\n",
    "    selected_image_ids = filtered_df['isic_id'].tolist()\n",
    "    selected_image_paths = [f\"{isic_id}.jpg\" for isic_id in selected_image_ids]\n",
    "\n",
    "    # Step 4: Copy/Move Images to a new folder\n",
    "    condition_folder = os.path.join(output_folder, condition.replace(' ', '_'))  # Create a folder with condition name\n",
    "    os.makedirs(condition_folder, exist_ok=True)\n",
    "\n",
    "    for image_path in selected_image_paths:\n",
    "        full_image_path = os.path.join(output_folder, image_path)\n",
    "        if os.path.exists(full_image_path):\n",
    "            shutil.copy(full_image_path, condition_folder)\n",
    "        else:\n",
    "            print(f\"Image not found: {full_image_path}\")\n",
    "\n"
   ]
  },
  {
   "cell_type": "markdown",
   "metadata": {},
   "source": [
    "Extractive 2019 skin cancer images\n"
   ]
  },
  {
   "cell_type": "code",
   "execution_count": 3,
   "metadata": {},
   "outputs": [],
   "source": [
    "# Step 1: Read CSV file\n",
    "csv_2019_path = r'C:\\Users\\sohai\\OneDrive\\Desktop\\Project_4\\challenge-2019-training_metadata_2024-02-02.csv'\n",
    "df_2019 = pd.read_csv(csv_2019_path)"
   ]
  },
  {
   "cell_type": "code",
   "execution_count": 4,
   "metadata": {},
   "outputs": [],
   "source": [
    "# Step 2: Define target conditions\n",
    "condition_of_interest_2019 = ['basal cell carcinoma', 'melanoma', 'squamous cell carcinoma']"
   ]
  },
  {
   "cell_type": "code",
   "execution_count": 5,
   "metadata": {},
   "outputs": [],
   "source": [
    "# Step 3: Filter Data and Identify Corresponding Images\n",
    "zip_file_path_2019 = r'C:\\Users\\sohai\\OneDrive\\Desktop\\Project_4\\ISIC-2019_images (1).zip'\n",
    "output_folder_2019 = r'C:\\Users\\sohai\\OneDrive\\Desktop\\Project_4\\2019_cancer_images'\n",
    "os.makedirs(output_folder_2019, exist_ok=True)"
   ]
  },
  {
   "cell_type": "code",
   "execution_count": 6,
   "metadata": {},
   "outputs": [],
   "source": [
    "# Extract images from the zip file\n",
    "with zipfile.ZipFile(zip_file_path_2019, 'r') as zip_ref:\n",
    "    zip_ref.extractall(output_folder_2019)"
   ]
  },
  {
   "cell_type": "code",
   "execution_count": 9,
   "metadata": {},
   "outputs": [],
   "source": [
    "for condition in condition_of_interest_2019:\n",
    "    filtered_df_2019 = df_2019[df_2019['diagnosis'] == condition]\n",
    "    selected_image_ids_2019 = filtered_df_2019['isic_id'].tolist()\n",
    "    selected_image_paths_2019 = [f\"{isic_id}.jpg\" for isic_id in selected_image_ids_2019]\n",
    "\n",
    "    # Step 4: Copy/Move Images to a new folder\n",
    "    condition_folder = os.path.join(output_folder_2019, condition.replace(' ', '_'))  # Create a folder with condition name\n",
    "    os.makedirs(condition_folder, exist_ok=True)\n",
    "\n",
    "    for image_path in selected_image_paths_2019:\n",
    "        full_image_path = os.path.join(output_folder_2019, image_path)\n",
    "        if os.path.exists(full_image_path):\n",
    "            shutil.copy(full_image_path, condition_folder)\n",
    "        else:\n",
    "            print(f\"Image not found: {full_image_path}\")\n"
   ]
  }
 ],
 "metadata": {
  "kernelspec": {
   "display_name": "dev",
   "language": "python",
   "name": "python3"
  },
  "language_info": {
   "codemirror_mode": {
    "name": "ipython",
    "version": 3
   },
   "file_extension": ".py",
   "mimetype": "text/x-python",
   "name": "python",
   "nbconvert_exporter": "python",
   "pygments_lexer": "ipython3",
   "version": "3.10.12"
  }
 },
 "nbformat": 4,
 "nbformat_minor": 2
}
